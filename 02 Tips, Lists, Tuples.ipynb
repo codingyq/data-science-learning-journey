{
  "nbformat": 4,
  "nbformat_minor": 0,
  "metadata": {
    "colab": {
      "provenance": [],
      "authorship_tag": "ABX9TyM5VC9mt/IebCStIudRWiM1",
      "include_colab_link": true
    },
    "kernelspec": {
      "name": "python3",
      "display_name": "Python 3"
    },
    "language_info": {
      "name": "python"
    }
  },
  "cells": [
    {
      "cell_type": "markdown",
      "metadata": {
        "id": "view-in-github",
        "colab_type": "text"
      },
      "source": [
        "<a href=\"https://colab.research.google.com/github/codingyq/freecodecamp-python-refresher/blob/main/20250905_Tips%2C_Lists%2C_Tuples.ipynb\" target=\"_parent\"><img src=\"https://colab.research.google.com/assets/colab-badge.svg\" alt=\"Open In Colab\"/></a>"
      ]
    },
    {
      "cell_type": "markdown",
      "source": [
        "# Tips: writing text, code and auto completion"
      ],
      "metadata": {
        "id": "-wAphz8DVf5g"
      }
    },
    {
      "cell_type": "markdown",
      "source": [
        "## 1. Headings & formulas\n"
      ],
      "metadata": {
        "id": "VG40wynBVnZP"
      }
    },
    {
      "cell_type": "markdown",
      "source": [
        "### Stucturing the text:\n",
        "\n",
        "* item1\n",
        "* item2\n",
        "\n",
        "regression equation: $y=\\beta_0 + \\beta_1 X_1 + ...+\\epsilon$\n",
        "\n",
        "\n",
        "regression equation with format: $$y=\\beta_0 + \\beta_1 X_1 + ...+\\epsilon$$"
      ],
      "metadata": {
        "id": "Z-3ZqSGiXOzH"
      }
    },
    {
      "cell_type": "markdown",
      "source": [
        "## 2. Reporting errors & running without stopping"
      ],
      "metadata": {
        "id": "tDlKm16TW3oM"
      }
    },
    {
      "cell_type": "markdown",
      "source": [
        "* click directly on SEARCH STACK OVERFLOW - Don't need to google it # well now obviously the Gemini can help us correcting the errors\n",
        "* codding that won't stop: 1. click on stop button 2. Runtime - interupt execution\n",
        "* code box - hiding the outcome: three dots on the right top - clear output"
      ],
      "metadata": {
        "id": "Ukf6TMGMXFRP"
      }
    },
    {
      "cell_type": "code",
      "source": [
        "y = 1\n",
        "\n",
        "(1/(1-y))"
      ],
      "metadata": {
        "id": "tafOEwviYduM"
      },
      "execution_count": null,
      "outputs": []
    },
    {
      "cell_type": "code",
      "source": [
        "x = 5\n",
        "while x>0:\n",
        "  x+=1\n",
        ""
      ],
      "metadata": {
        "id": "hxUaXcDRYB60"
      },
      "execution_count": null,
      "outputs": []
    },
    {
      "cell_type": "markdown",
      "source": [
        "## 3. Auto completion"
      ],
      "metadata": {
        "id": "O37Ct4nIY-rM"
      }
    },
    {
      "cell_type": "code",
      "source": [
        "import numpy as np"
      ],
      "metadata": {
        "id": "_IBcYfHHZDI4"
      },
      "execution_count": 6,
      "outputs": []
    },
    {
      "cell_type": "code",
      "source": [
        "np.ramdom.normal()"
      ],
      "metadata": {
        "id": "MbKU2I1nZGXq"
      },
      "execution_count": null,
      "outputs": []
    },
    {
      "cell_type": "markdown",
      "source": [
        "### Manually Triggering Autocomplete\n",
        "If the suggestions go away while you're coding, you can often bring them back with a simple keyboard shortcut:\n",
        "\n",
        "* On Windows and Linux, press Ctrl + Space.\n",
        "* On a Mac, it's also typically Ctrl + Space, but if that opens your system search, you might need to use Option + Esc.\n",
        "### - Other Potential Issues\n",
        "If the shortcut doesn't work, there might be other issues causing the problem:\n",
        "\n",
        "* First-time execution: Sometimes, the completion feature won't work for a library or variable until you've run the cell once. Make sure you've executed the code cell that defines the objects or imports the libraries you're working with.\n",
        "\n",
        "* Settings: You might have a setting turned off. You can check your Colab editor settings by going to Tools > Settings > Editor and ensuring that \"Show context-powered code completions\" is selected."
      ],
      "metadata": {
        "id": "L7fkhqERZBHw"
      }
    },
    {
      "cell_type": "markdown",
      "source": [
        "*** Lists: Structure used to store a large amount of data"
      ],
      "metadata": {
        "id": "MpjcHsJuQVGf"
      }
    },
    {
      "cell_type": "markdown",
      "source": [
        "# Lists"
      ],
      "metadata": {
        "id": "VGvyH-xDP8t4"
      }
    },
    {
      "cell_type": "markdown",
      "source": [
        "### 1. Access the element in the list"
      ],
      "metadata": {
        "id": "V-LMwYY6QznM"
      }
    },
    {
      "cell_type": "code",
      "source": [
        "friends = [\"myt\", \"wql\", \"gsd\",\"Oscar\",\"Toby\"] #string, number, boolyn"
      ],
      "metadata": {
        "id": "SSCEBWE0P6X0"
      },
      "execution_count": 7,
      "outputs": []
    },
    {
      "cell_type": "code",
      "source": [
        "print(friends)"
      ],
      "metadata": {
        "colab": {
          "base_uri": "https://localhost:8080/"
        },
        "id": "YnR8DsLrQo1w",
        "outputId": "b1a09d3c-0e38-4067-9271-a2b30da330e3"
      },
      "execution_count": 3,
      "outputs": [
        {
          "output_type": "stream",
          "name": "stdout",
          "text": [
            "['myt', 'wql', 'gsd']\n"
          ]
        }
      ]
    },
    {
      "cell_type": "code",
      "source": [
        "print(friends[0])"
      ],
      "metadata": {
        "colab": {
          "base_uri": "https://localhost:8080/"
        },
        "id": "A46BxyRdQ1N0",
        "outputId": "5687f6c1-15e0-4890-ff21-c1fd142a8af3"
      },
      "execution_count": 4,
      "outputs": [
        {
          "output_type": "stream",
          "name": "stdout",
          "text": [
            "myt\n"
          ]
        }
      ]
    },
    {
      "cell_type": "code",
      "source": [
        "print(friends[2])"
      ],
      "metadata": {
        "colab": {
          "base_uri": "https://localhost:8080/"
        },
        "id": "yrLmAE-SPb3G",
        "outputId": "3eea965a-da12-467a-ac06-769f8751260f"
      },
      "execution_count": 10,
      "outputs": [
        {
          "output_type": "stream",
          "name": "stdout",
          "text": [
            "gsd\n"
          ]
        }
      ]
    },
    {
      "cell_type": "code",
      "source": [
        "print(friends[-1]) # grab from the back of the list. from front: 0 1 2...; from back -1 -2 -3 ..."
      ],
      "metadata": {
        "colab": {
          "base_uri": "https://localhost:8080/"
        },
        "id": "tJikr37uPe44",
        "outputId": "84337987-6f54-4c92-ff30-19111d3acced"
      },
      "execution_count": 9,
      "outputs": [
        {
          "output_type": "stream",
          "name": "stdout",
          "text": [
            "Toby\n"
          ]
        }
      ]
    },
    {
      "cell_type": "code",
      "source": [
        "print(friends[1:])  # everthing since that index"
      ],
      "metadata": {
        "colab": {
          "base_uri": "https://localhost:8080/"
        },
        "id": "JmVXcUooPsdh",
        "outputId": "9f9de6ae-cdc9-4881-8ad8-9dc1fa2c86e1"
      },
      "execution_count": 8,
      "outputs": [
        {
          "output_type": "stream",
          "name": "stdout",
          "text": [
            "['wql', 'gsd', 'Oscar', 'Toby']\n"
          ]
        }
      ]
    },
    {
      "cell_type": "code",
      "source": [
        "print(friends[1:3])  # grap from index up to another index: range from the first index up to the other, but not include the third"
      ],
      "metadata": {
        "colab": {
          "base_uri": "https://localhost:8080/"
        },
        "id": "lIuE44-SQEGh",
        "outputId": "9b3ee660-18cf-404d-ea3a-ed84fa23ac49"
      },
      "execution_count": 11,
      "outputs": [
        {
          "output_type": "stream",
          "name": "stdout",
          "text": [
            "['wql', 'gsd']\n"
          ]
        }
      ]
    },
    {
      "cell_type": "code",
      "source": [],
      "metadata": {
        "id": "JHRL5ziQQkNQ"
      },
      "execution_count": null,
      "outputs": []
    },
    {
      "cell_type": "markdown",
      "source": [
        "### 2. Modify elements in the list"
      ],
      "metadata": {
        "id": "rFCDDWHfQ9yb"
      }
    },
    {
      "cell_type": "code",
      "source": [
        "friends[1] = \"WQL\"\n",
        "print(friends[1])\n",
        "print(friends)"
      ],
      "metadata": {
        "colab": {
          "base_uri": "https://localhost:8080/"
        },
        "id": "3ZovqYmOQ8zr",
        "outputId": "35367229-6021-46fc-c699-686d46c29bbe"
      },
      "execution_count": 12,
      "outputs": [
        {
          "output_type": "stream",
          "name": "stdout",
          "text": [
            "WQL\n",
            "['myt', 'WQL', 'gsd', 'Oscar', 'Toby']\n"
          ]
        }
      ]
    },
    {
      "cell_type": "markdown",
      "source": [
        "### 3. List functions"
      ],
      "metadata": {
        "id": "wVK5HDv4RnQX"
      }
    },
    {
      "cell_type": "code",
      "source": [
        "lucky_number = [4,8,6,15,16,42]\n",
        "friends = [\"myt\", \"WQL\", \"gsd\",\"Oscar\",\"Toby\"]"
      ],
      "metadata": {
        "id": "pt8s2_SdR2gI"
      },
      "execution_count": 33,
      "outputs": []
    },
    {
      "cell_type": "code",
      "source": [
        "print(friends)"
      ],
      "metadata": {
        "colab": {
          "base_uri": "https://localhost:8080/"
        },
        "id": "q7H1i3IiRnEo",
        "outputId": "d17ed2b2-61f3-463d-d635-5425aaf6ab58"
      },
      "execution_count": 34,
      "outputs": [
        {
          "output_type": "stream",
          "name": "stdout",
          "text": [
            "['myt', 'WQL', 'gsd', 'Oscar', 'Toby']\n"
          ]
        }
      ]
    },
    {
      "cell_type": "code",
      "source": [
        "friends.extend(lucky_number) #inside the ()),we can pass on the list that I want to add into friends list\n",
        "print(friends)"
      ],
      "metadata": {
        "colab": {
          "base_uri": "https://localhost:8080/"
        },
        "id": "lTCv3mjlRmWw",
        "outputId": "b112610f-5e63-4564-ff9f-ea9be914514c"
      },
      "execution_count": 35,
      "outputs": [
        {
          "output_type": "stream",
          "name": "stdout",
          "text": [
            "['myt', 'WQL', 'gsd', 'Oscar', 'Toby', 4, 8, 6, 15, 16, 42]\n"
          ]
        }
      ]
    },
    {
      "cell_type": "code",
      "source": [
        "friends.append(\"Creed\")  # append: always add an item onto the end of the list\n",
        "print(friends)"
      ],
      "metadata": {
        "colab": {
          "base_uri": "https://localhost:8080/"
        },
        "id": "adN3cIqySvM0",
        "outputId": "c0c2867f-65a1-4c6a-ce63-baaef4eda617"
      },
      "execution_count": 36,
      "outputs": [
        {
          "output_type": "stream",
          "name": "stdout",
          "text": [
            "['myt', 'WQL', 'gsd', 'Oscar', 'Toby', 4, 8, 6, 15, 16, 42, 'Creed']\n"
          ]
        }
      ]
    },
    {
      "cell_type": "code",
      "source": [
        "friends.insert(1,\"Kelly\") # append always onto the end, if we want to add item in the middle of the list, we use insert\n",
        "        # insert takes 2 parameters, first: index where we want to insert item; second item we want to add\n",
        "        # Once runned, the index place will become Kelly and from there otehr index will get pushed up\n",
        "print(friends)"
      ],
      "metadata": {
        "colab": {
          "base_uri": "https://localhost:8080/"
        },
        "id": "tIF1ILzHTHrQ",
        "outputId": "b42fc6f2-dc8e-4745-c1a7-fb0075ee5bd3"
      },
      "execution_count": 37,
      "outputs": [
        {
          "output_type": "stream",
          "name": "stdout",
          "text": [
            "['myt', 'Kelly', 'WQL', 'gsd', 'Oscar', 'Toby', 4, 8, 6, 15, 16, 42, 'Creed']\n"
          ]
        }
      ]
    },
    {
      "cell_type": "code",
      "source": [
        "friends.remove(\"Oscar\") # Remove elements from the list\n",
        "print(friends)"
      ],
      "metadata": {
        "colab": {
          "base_uri": "https://localhost:8080/"
        },
        "id": "BkCpOgigThhx",
        "outputId": "a92e85ea-1040-4f69-f10f-89f6a2c70ad0"
      },
      "execution_count": 38,
      "outputs": [
        {
          "output_type": "stream",
          "name": "stdout",
          "text": [
            "['myt', 'Kelly', 'WQL', 'gsd', 'Toby', 4, 8, 6, 15, 16, 42, 'Creed']\n"
          ]
        }
      ]
    },
    {
      "cell_type": "code",
      "source": [
        "friends.clear() # Remove everthing in the list - give us a empty list\n",
        "print(friends)"
      ],
      "metadata": {
        "colab": {
          "base_uri": "https://localhost:8080/"
        },
        "id": "6PAWrtfQUXqG",
        "outputId": "982a33c5-6cbc-42f2-d118-b8d29cb25e39"
      },
      "execution_count": 40,
      "outputs": [
        {
          "output_type": "stream",
          "name": "stdout",
          "text": [
            "[]\n"
          ]
        }
      ]
    },
    {
      "cell_type": "code",
      "source": [
        "friends = [\"myt\", \"WQL\", \"gsd\",\"Oscar\",\"Toby\"]\n",
        "friends.pop()   # It pops an element off the list = Remove the last element in the list\n",
        "print(friends)"
      ],
      "metadata": {
        "colab": {
          "base_uri": "https://localhost:8080/"
        },
        "id": "8Cpf0jppUozv",
        "outputId": "5bf7b4d7-0869-43ed-f76e-21c94ed82015"
      },
      "execution_count": 41,
      "outputs": [
        {
          "output_type": "stream",
          "name": "stdout",
          "text": [
            "['myt', 'WQL', 'gsd', 'Oscar']\n"
          ]
        }
      ]
    },
    {
      "cell_type": "code",
      "source": [
        "print(friends.index(\"myt\")) # Figure out if a certain value is in the list"
      ],
      "metadata": {
        "colab": {
          "base_uri": "https://localhost:8080/"
        },
        "id": "SxWT0aOCVKop",
        "outputId": "cfdeee50-ebc4-48f7-e178-70c98c5752b0"
      },
      "execution_count": 42,
      "outputs": [
        {
          "output_type": "stream",
          "name": "stdout",
          "text": [
            "0\n"
          ]
        }
      ]
    },
    {
      "cell_type": "code",
      "source": [
        "print(friends.index(\"Kevin\"))  # If the item is not in the list it will show an error"
      ],
      "metadata": {
        "colab": {
          "base_uri": "https://localhost:8080/",
          "height": 149
        },
        "id": "jJe6MrPuVYDJ",
        "outputId": "f397bbd5-ab96-45d0-d1e0-7ae415b4b4a2"
      },
      "execution_count": 43,
      "outputs": [
        {
          "output_type": "error",
          "ename": "ValueError",
          "evalue": "'Kevin' is not in list",
          "traceback": [
            "\u001b[0;31m---------------------------------------------------------------------------\u001b[0m",
            "\u001b[0;31mValueError\u001b[0m                                Traceback (most recent call last)",
            "\u001b[0;32m/tmp/ipython-input-750332010.py\u001b[0m in \u001b[0;36m<cell line: 0>\u001b[0;34m()\u001b[0m\n\u001b[0;32m----> 1\u001b[0;31m \u001b[0mprint\u001b[0m\u001b[0;34m(\u001b[0m\u001b[0mfriends\u001b[0m\u001b[0;34m.\u001b[0m\u001b[0mindex\u001b[0m\u001b[0;34m(\u001b[0m\u001b[0;34m\"Kevin\"\u001b[0m\u001b[0;34m)\u001b[0m\u001b[0;34m)\u001b[0m  \u001b[0;31m# If the item is not in the list it will show an error\u001b[0m\u001b[0;34m\u001b[0m\u001b[0;34m\u001b[0m\u001b[0m\n\u001b[0m",
            "\u001b[0;31mValueError\u001b[0m: 'Kevin' is not in list"
          ]
        }
      ]
    },
    {
      "cell_type": "code",
      "source": [
        "# count the similar item in the list\n",
        "friends = [\"myt\", \"WQL\", \"gsd\",\"Oscar\",\"Toby\",\"Jim\",\"Jim\"]\n",
        "print(friends.count(\"Jim\"))\n"
      ],
      "metadata": {
        "colab": {
          "base_uri": "https://localhost:8080/"
        },
        "id": "tyGP4bGLVhKR",
        "outputId": "893fa0d1-9c53-4c3d-e29f-e16230a11396"
      },
      "execution_count": 44,
      "outputs": [
        {
          "output_type": "stream",
          "name": "stdout",
          "text": [
            "2\n"
          ]
        }
      ]
    },
    {
      "cell_type": "code",
      "source": [
        "# Sorting - in alphabetical order\n",
        "friends.sort()\n",
        "print(friends)\n",
        "\n",
        "lucky_number = [48,8,6,15,16,42]\n",
        "lucky_number.sort()\n",
        "print(lucky_number)"
      ],
      "metadata": {
        "colab": {
          "base_uri": "https://localhost:8080/"
        },
        "id": "9Xb0IimiVm1S",
        "outputId": "f2703611-2a6f-4d8e-ae75-c237999043b4"
      },
      "execution_count": 48,
      "outputs": [
        {
          "output_type": "stream",
          "name": "stdout",
          "text": [
            "['Jim', 'Jim', 'Oscar', 'Toby', 'WQL', 'gsd', 'myt']\n",
            "[6, 8, 15, 16, 42, 48]\n"
          ]
        }
      ]
    },
    {
      "cell_type": "code",
      "source": [
        "# Reverse a list - reverse the order\n",
        "lucky_number.reverse()\n",
        "print(lucky_number)"
      ],
      "metadata": {
        "colab": {
          "base_uri": "https://localhost:8080/"
        },
        "id": "2wIYL6C-WyHH",
        "outputId": "da6e358a-1cec-4af8-9ed3-a3b2ef231802"
      },
      "execution_count": 55,
      "outputs": [
        {
          "output_type": "stream",
          "name": "stdout",
          "text": [
            "[6, 8, 15, 16, 42, 48]\n"
          ]
        }
      ]
    },
    {
      "cell_type": "code",
      "source": [
        "# Copy - create another list and make it a copy\n",
        "friends2 = friends.copy()     # friends2 will have all the same attributes as frinds = it is a copy\n",
        "\n",
        "print(friends2)"
      ],
      "metadata": {
        "colab": {
          "base_uri": "https://localhost:8080/"
        },
        "id": "xCpG9mJRXcpJ",
        "outputId": "5e112f90-e5a2-4c9b-d222-589a2401c37b"
      },
      "execution_count": 53,
      "outputs": [
        {
          "output_type": "stream",
          "name": "stdout",
          "text": [
            "['Jim', 'Jim', 'Oscar', 'Toby', 'WQL', 'gsd', 'myt']\n"
          ]
        }
      ]
    },
    {
      "cell_type": "markdown",
      "source": [
        "# Tuples"
      ],
      "metadata": {
        "id": "OxNRSVgCXb2G"
      }
    },
    {
      "cell_type": "markdown",
      "source": [
        "* A type a data structure\n",
        "* A container where we can strore different values\n",
        "* Similar to List but have key difference with lists\n",
        "* Tuples are immutable - can't be changed or modified e.g. add/modify/remove.. - Once it has been created, it is as it is\n",
        "* We can access the elements in tuple\n",
        "* We use tuples for data that's never going to change"
      ],
      "metadata": {
        "id": "A6SI3xTuYOPe"
      }
    },
    {
      "cell_type": "code",
      "source": [
        "# create a tuple and get access to the item\n",
        "Coordinates = (4, 5)\n",
        "print(Coordinates)\n",
        "print(Coordinates[0])\n",
        "print(Coordinates[1])"
      ],
      "metadata": {
        "colab": {
          "base_uri": "https://localhost:8080/"
        },
        "id": "JZhhYZJlY3VC",
        "outputId": "f4c53ad4-e866-42b6-b11a-be9af8d3e449"
      },
      "execution_count": 54,
      "outputs": [
        {
          "output_type": "stream",
          "name": "stdout",
          "text": [
            "(4, 5)\n",
            "4\n",
            "5\n"
          ]
        }
      ]
    },
    {
      "cell_type": "code",
      "source": [
        "# Tuple is immutable. We cannot chang it.\n",
        "Coordinates[1] = 10\n",
        "print(Coordinate[1])"
      ],
      "metadata": {
        "colab": {
          "base_uri": "https://localhost:8080/",
          "height": 168
        },
        "id": "q8PCwelQZzeF",
        "outputId": "96e28e14-e6f9-40c4-f3a7-b0aa506174ac"
      },
      "execution_count": 56,
      "outputs": [
        {
          "output_type": "error",
          "ename": "TypeError",
          "evalue": "'tuple' object does not support item assignment",
          "traceback": [
            "\u001b[0;31m---------------------------------------------------------------------------\u001b[0m",
            "\u001b[0;31mTypeError\u001b[0m                                 Traceback (most recent call last)",
            "\u001b[0;32m/tmp/ipython-input-512394700.py\u001b[0m in \u001b[0;36m<cell line: 0>\u001b[0;34m()\u001b[0m\n\u001b[0;32m----> 1\u001b[0;31m \u001b[0mCoordinates\u001b[0m\u001b[0;34m[\u001b[0m\u001b[0;36m1\u001b[0m\u001b[0;34m]\u001b[0m \u001b[0;34m=\u001b[0m \u001b[0;36m10\u001b[0m\u001b[0;34m\u001b[0m\u001b[0;34m\u001b[0m\u001b[0m\n\u001b[0m\u001b[1;32m      2\u001b[0m \u001b[0mprint\u001b[0m\u001b[0;34m(\u001b[0m\u001b[0mCoordinate\u001b[0m\u001b[0;34m[\u001b[0m\u001b[0;36m1\u001b[0m\u001b[0;34m]\u001b[0m\u001b[0;34m)\u001b[0m\u001b[0;34m\u001b[0m\u001b[0;34m\u001b[0m\u001b[0m\n",
            "\u001b[0;31mTypeError\u001b[0m: 'tuple' object does not support item assignment"
          ]
        }
      ]
    },
    {
      "cell_type": "code",
      "source": [
        "# Difference with Lists and Tuples\n",
        "# List = []  Tuples = ()\n",
        "# List is doing the same thing. We can assign values/mutate any of the elemetns (add/delete/modify); Tuples we cannot do that\n",
        "# Coordinates is such good candidate for a tuple because the data won't be changed. We want to add another coordinates\n",
        "coordinates = [(4, 5), (6, 7), (80, 34)] # We can create lists of tuples\n",
        "print(coordinates)"
      ],
      "metadata": {
        "colab": {
          "base_uri": "https://localhost:8080/"
        },
        "id": "rlPaD2tyaStA",
        "outputId": "95edd95e-4d72-45ee-ea19-8db4553cc64f"
      },
      "execution_count": 58,
      "outputs": [
        {
          "output_type": "stream",
          "name": "stdout",
          "text": [
            "[(4, 5), (6, 7), (80, 34)]\n"
          ]
        }
      ]
    }
  ]
}

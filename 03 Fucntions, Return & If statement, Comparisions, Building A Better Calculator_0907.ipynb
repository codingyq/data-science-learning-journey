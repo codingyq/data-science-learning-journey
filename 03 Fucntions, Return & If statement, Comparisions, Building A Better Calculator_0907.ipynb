{
  "nbformat": 4,
  "nbformat_minor": 0,
  "metadata": {
    "colab": {
      "provenance": [],
      "authorship_tag": "ABX9TyP3+CfX61tDUD7blzIZCjyy",
      "include_colab_link": true
    },
    "kernelspec": {
      "name": "python3",
      "display_name": "Python 3"
    },
    "language_info": {
      "name": "python"
    }
  },
  "cells": [
    {
      "cell_type": "markdown",
      "metadata": {
        "id": "view-in-github",
        "colab_type": "text"
      },
      "source": [
        "<a href=\"https://colab.research.google.com/github/codingyq/freecodecamp-python-refresher/blob/main/03%20Fucntions%2C%20Return%20%26%20If%20statement%2C%20Comparisions%2C%20Building%20A%20Better%20Calculator_0907.ipynb\" target=\"_parent\"><img src=\"https://colab.research.google.com/assets/colab-badge.svg\" alt=\"Open In Colab\"/></a>"
      ]
    },
    {
      "cell_type": "markdown",
      "source": [
        "This file contains two sections:\n",
        "* Section A: Function, Return & If statement, If statement and comparisions\n",
        "* Section B: Building A Better Calculator\n",
        "\n"
      ],
      "metadata": {
        "id": "SsysYidfRukC"
      }
    },
    {
      "cell_type": "markdown",
      "source": [
        "# Section A: Function, Return & If statement, If statement and comparisions"
      ],
      "metadata": {
        "id": "Uq9y0MF8Qgot"
      }
    },
    {
      "cell_type": "markdown",
      "source": [
        "## 1. Define function"
      ],
      "metadata": {
        "id": "Zh9Sa_1UCMqu"
      }
    },
    {
      "cell_type": "markdown",
      "source": [
        "Functions = little chunks that are doing different things\n",
        "* def xx - keywords that let python know we want to use function and we can give it a name\n"
      ],
      "metadata": {
        "id": "RZHHEz0GgwhZ"
      }
    },
    {
      "cell_type": "code",
      "source": [
        "# Create a function that saying hi to users\n",
        "def say_hi():      # This tells python that all the codes that comes after this line, is going to be inside our function\n",
        "   print(\"Hello User\")         # In PyCharm, function definitions (def) can be folded/collapsed according to the intented rules\n",
        "                      # Run the code, won't print - the code inside of a function is not going to get executed by default"
      ],
      "metadata": {
        "id": "5gOkXvS3g9OV"
      },
      "execution_count": null,
      "outputs": []
    },
    {
      "cell_type": "code",
      "source": [
        "# Call the function\n",
        "say_hi()"
      ],
      "metadata": {
        "colab": {
          "base_uri": "https://localhost:8080/"
        },
        "id": "3_R85omBjj3h",
        "outputId": "f2dbd874-e0af-4d73-f091-e6463cf87e6f"
      },
      "execution_count": null,
      "outputs": [
        {
          "output_type": "stream",
          "name": "stdout",
          "text": [
            "Hello User\n"
          ]
        }
      ]
    },
    {
      "cell_type": "code",
      "source": [
        "# flows of functions\n",
        "print(\"Top\")\n",
        "say_hi()           # Jumps up and execute all the code above in the function\n",
        "print(\"Bottom\")       # Jumps back down and move onto next line"
      ],
      "metadata": {
        "colab": {
          "base_uri": "https://localhost:8080/"
        },
        "id": "L6w7gmqLjvnB",
        "outputId": "f3b53b08-b0a1-4942-a144-42b43e7627e5"
      },
      "execution_count": null,
      "outputs": [
        {
          "output_type": "stream",
          "name": "stdout",
          "text": [
            "Top\n",
            "Hello User\n",
            "Bottom\n"
          ]
        }
      ]
    },
    {
      "cell_type": "code",
      "source": [
        "# Give information: pass parameters in\n",
        "def say_hi(name):\n",
        "  print(\"Hello \" + name)\n",
        "\n",
        "say_hi(\"Mike\")\n",
        "say_hi(\"Steve\")"
      ],
      "metadata": {
        "colab": {
          "base_uri": "https://localhost:8080/"
        },
        "id": "joJdWAknj9M5",
        "outputId": "52c614b9-de25-404f-c524-a174b725224b"
      },
      "execution_count": null,
      "outputs": [
        {
          "output_type": "stream",
          "name": "stdout",
          "text": [
            "Hello Mike\n",
            "Hello Steve\n"
          ]
        }
      ]
    },
    {
      "cell_type": "code",
      "source": [
        "def say_hi(name, age):\n",
        "  print(\"Hello \" + name + \", you are \" + str(age))\n",
        "\n",
        "say_hi(\"Mike\", 35)\n",
        "say_hi(\"Steve\", 70)"
      ],
      "metadata": {
        "colab": {
          "base_uri": "https://localhost:8080/"
        },
        "id": "IDDXHMA5lCCl",
        "outputId": "cf577899-c56a-4463-b20b-063fd27b1b3d"
      },
      "execution_count": null,
      "outputs": [
        {
          "output_type": "stream",
          "name": "stdout",
          "text": [
            "Hello Mike, you are 35\n",
            "Hello Steve, you are 70\n"
          ]
        }
      ]
    },
    {
      "cell_type": "markdown",
      "source": [
        "## 2. Return statement\n",
        "when we call a function and we want to get information back from that function"
      ],
      "metadata": {
        "id": "khPHkbxcBHL5"
      }
    },
    {
      "cell_type": "code",
      "source": [
        "# function taht cube the number: take it to the power of three. e.g. cube 2 = 2 ^3 (2 raised to the power of 3)\n",
        "def cube(num):\n",
        "  num*num*num\n",
        "\n",
        "cube(3)           # nothing turned out\n",
        "print(cube(3))       # None -- it didn't do anything"
      ],
      "metadata": {
        "colab": {
          "base_uri": "https://localhost:8080/"
        },
        "id": "Jgli7YZlBWTj",
        "outputId": "ceeeba9c-9180-4447-80a1-50e449183d61"
      },
      "execution_count": null,
      "outputs": [
        {
          "output_type": "stream",
          "name": "stdout",
          "text": [
            "None\n"
          ]
        }
      ]
    },
    {
      "cell_type": "code",
      "source": [
        "# using return statement\n",
        "def cube(num):\n",
        "  return num*num*num\n",
        "\n",
        "cube(3)\n",
        "print(cube(3))    #when python sees the return statement, it will say\"ok I want to give a value back to whatever call of this function\""
      ],
      "metadata": {
        "colab": {
          "base_uri": "https://localhost:8080/"
        },
        "id": "l2AHp13QBWQi",
        "outputId": "8fad134f-d7c8-483b-dc71-8fb0d86377a5"
      },
      "execution_count": null,
      "outputs": [
        {
          "output_type": "stream",
          "name": "stdout",
          "text": [
            "27\n"
          ]
        }
      ]
    },
    {
      "cell_type": "code",
      "source": [
        "# using variable to store the value from the return from the function\n",
        "def cube(num):\n",
        "  return num*num*num\n",
        "\n",
        "result = cube(5)\n",
        "print(result)\n",
        "\n",
        "# use return: getting information back from a function\n",
        "# use parameter (5): give information to a function\n"
      ],
      "metadata": {
        "colab": {
          "base_uri": "https://localhost:8080/"
        },
        "id": "UlMhRh5tEEIW",
        "outputId": "1e21a701-5044-45be-8205-b436fff7415c"
      },
      "execution_count": null,
      "outputs": [
        {
          "output_type": "stream",
          "name": "stdout",
          "text": [
            "125\n"
          ]
        }
      ]
    },
    {
      "cell_type": "code",
      "source": [
        "# not able to put any code after the return statement\n",
        "\n",
        "def cube(num):\n",
        "  return num*num*num           # using return break us out of the function - python's going through, it execute the code in function - whenever it sees the return keywords, it just going to break back out and it is all done\n",
        "  print(\"This is not going to print\") # will never reach this line of code\n",
        "\n",
        "result = cube(4)\n",
        "print(result)"
      ],
      "metadata": {
        "colab": {
          "base_uri": "https://localhost:8080/"
        },
        "id": "PbJUXyIsEbJn",
        "outputId": "e655009e-263a-4122-843d-51c597fabd52"
      },
      "execution_count": null,
      "outputs": [
        {
          "output_type": "stream",
          "name": "stdout",
          "text": [
            "64\n"
          ]
        }
      ]
    },
    {
      "cell_type": "markdown",
      "source": [
        "## 3. If statement\n",
        "Special structure that help our programs to make decisions\n",
        "by using it, we can execute certain code when certain conditions are true; and execute other code when other conditions are true\n",
        "so depending on the data, our program will be able to respond"
      ],
      "metadata": {
        "id": "XZa6om4HED5g"
      }
    },
    {
      "cell_type": "code",
      "source": [
        "# if statement to check the varialbe/condition and if it's true we can do something\n",
        "# the boolean variable is to store wheather the user is a male\n",
        "\n",
        "\n",
        "is_male = True\n",
        "\n",
        "if is_male:\n",
        "  print(\"You are a male\")\n",
        "else:\n",
        "  print(\"You are not a male\")"
      ],
      "metadata": {
        "colab": {
          "base_uri": "https://localhost:8080/"
        },
        "id": "yI61qS8LIkjN",
        "outputId": "ff484447-7d45-4520-89e8-b23f0b480f8a"
      },
      "execution_count": null,
      "outputs": [
        {
          "output_type": "stream",
          "name": "stdout",
          "text": [
            "You are a male\n"
          ]
        }
      ]
    },
    {
      "cell_type": "code",
      "source": [
        "# Combination of two keywords\n",
        "\n",
        "is_male = True\n",
        "is_tall = True\n",
        "\n",
        "if is_male or is_tall:\n",
        "  print(\"You are a male or tall or both\")\n",
        "else:\n",
        "  print(\"You are neither male nor tall\")\n"
      ],
      "metadata": {
        "colab": {
          "base_uri": "https://localhost:8080/"
        },
        "id": "gFh3FVQwJgNn",
        "outputId": "5f3e5b16-d2e2-4a5f-91a1-eaed0c93f388"
      },
      "execution_count": null,
      "outputs": [
        {
          "output_type": "stream",
          "name": "stdout",
          "text": [
            "You are a male or tall or both\n"
          ]
        }
      ]
    },
    {
      "cell_type": "code",
      "source": [
        "# and/or in the if statement\n",
        "\n",
        "is_male = False\n",
        "is_tall = False\n",
        "\n",
        "if is_male and is_tall:\n",
        "  print(\"You are a tall male\")\n",
        "else:\n",
        "  print(\"You are either not male or not tall or both\")"
      ],
      "metadata": {
        "colab": {
          "base_uri": "https://localhost:8080/"
        },
        "id": "BSEsarYEJ3kg",
        "outputId": "40cee7fa-9676-4232-d149-7758e672cd08"
      },
      "execution_count": null,
      "outputs": [
        {
          "output_type": "stream",
          "name": "stdout",
          "text": [
            "You are either not male or not tall or both\n"
          ]
        }
      ]
    },
    {
      "cell_type": "code",
      "source": [
        "# else if = elif\n",
        "\n",
        "is_male = False\n",
        "is_tall = False\n",
        "\n",
        "if is_male and is_tall:\n",
        "  print(\"You are a tall male\")\n",
        "elif is_male and not(is_tall):         # not(): negate whatever is inside. if it was true, it will make it false, vice versa\n",
        "  print(\"You are a short male\")\n",
        "elif not(is_male) and is_tall:\n",
        "  print(\"You are not a male but are tall\")\n",
        "else:\n",
        "  print(\"You are not a male and not tall\")\n"
      ],
      "metadata": {
        "colab": {
          "base_uri": "https://localhost:8080/"
        },
        "id": "0kL4IOBiKm8c",
        "outputId": "8973c928-6849-41f3-c1cd-50437a503bca"
      },
      "execution_count": null,
      "outputs": [
        {
          "output_type": "stream",
          "name": "stdout",
          "text": [
            "You are not a male and not tall\n"
          ]
        }
      ]
    },
    {
      "cell_type": "markdown",
      "source": [
        "## 4. If statements & Comparisons"
      ],
      "metadata": {
        "id": "RqvmpaQYM2ww"
      }
    },
    {
      "cell_type": "markdown",
      "source": [
        "Comparison\n",
        "compare with numbers, strings"
      ],
      "metadata": {
        "id": "RtP4kTSjKfm4"
      }
    },
    {
      "cell_type": "code",
      "source": [
        "# Function that compare 3 input number and print out the biggest\n",
        "def max_num(num1, num2, num3):\n",
        "  if num1 >= num2 and num1 >= num3:  # the result of the comparisions are boolean value: if true/false and true/false. We are getting that t/f value by using a comparision\n",
        "    return num1            # >= - comparision operator, greater than or equal to\n",
        "  elif num2 >= num1 and num2 >= num3:\n",
        "    return num2\n",
        "  else:\n",
        "    return num3\n",
        "\n",
        "print(max_num(105, 40, 5))\n"
      ],
      "metadata": {
        "colab": {
          "base_uri": "https://localhost:8080/"
        },
        "id": "fy1BjszOKr4v",
        "outputId": "aba561c6-0708-43bd-f8d9-fce3941e7e73"
      },
      "execution_count": 7,
      "outputs": [
        {
          "output_type": "stream",
          "name": "stdout",
          "text": [
            "105\n"
          ]
        }
      ]
    },
    {
      "cell_type": "markdown",
      "source": [
        "* Comparision operators\n",
        "* == check to see if the two values are equal\n",
        "* != not equal; and >  <  >= <="
      ],
      "metadata": {
        "id": "9-epGfudM5ud"
      }
    },
    {
      "cell_type": "markdown",
      "source": [
        "# Section B: Building A Better Calculator"
      ],
      "metadata": {
        "id": "_hxHcJcENM38"
      }
    },
    {
      "cell_type": "code",
      "source": [
        "# Calculator that let user enter a number, operatorm another number and do the math"
      ],
      "metadata": {
        "id": "KnMhBaIdNxzo"
      },
      "execution_count": null,
      "outputs": []
    },
    {
      "cell_type": "code",
      "source": [
        "# My own answer before seeing the answer from the video\n",
        "\n",
        "def Calculate(num1, math_operator, num2):\n",
        "  if math_operator == \"+\":\n",
        "    return num1 + num2\n",
        "  elif math_operator == \"-\":\n",
        "    return num1 - num2\n",
        "  elif math_operator == \"*\":\n",
        "    return num1 * num2\n",
        "  elif math_operator == \"/\":\n",
        "    return num1 / num2\n",
        "  else:\n",
        "    return print(\"operator should be + - * /\")\n",
        "\n",
        "Calculate(1, \"+\", 5)"
      ],
      "metadata": {
        "colab": {
          "base_uri": "https://localhost:8080/"
        },
        "id": "wLlMxchoN-54",
        "outputId": "e09060dd-72a9-47a6-f8f7-5bc61d712794"
      },
      "execution_count": 15,
      "outputs": [
        {
          "output_type": "execute_result",
          "data": {
            "text/plain": [
              "6"
            ]
          },
          "metadata": {},
          "execution_count": 15
        }
      ]
    },
    {
      "cell_type": "code",
      "source": [
        "# Offical answer in the video\n",
        "\n",
        "number1 = float(input(\"Enter first number: \"))\n",
        "op = input(\"Enter operator: \")\n",
        "number2 = float(input(\"Enter second number: \"))\n",
        "\n",
        "if op == \"+\":\n",
        "  print(number1 + number2)\n",
        "elif op == \"-\":\n",
        "  print(number1 - number2)\n",
        "elif op == \"*\":\n",
        "  print(number1 * number2)\n",
        "elif op == \"/\":\n",
        "  print(number1 / number2)\n",
        "else:\n",
        "  print(\"Invalid operator\")\n",
        "\n",
        "\n",
        "\n"
      ],
      "metadata": {
        "colab": {
          "base_uri": "https://localhost:8080/"
        },
        "id": "NHuvxpxcPFuE",
        "outputId": "748f18ad-dcee-4dce-f867-9f53484cf5a9"
      },
      "execution_count": 14,
      "outputs": [
        {
          "output_type": "stream",
          "name": "stdout",
          "text": [
            "Enter first number: 1\n",
            "Enter operator: +\n",
            "Enter second number: 10\n",
            "11.0\n"
          ]
        }
      ]
    }
  ]
}
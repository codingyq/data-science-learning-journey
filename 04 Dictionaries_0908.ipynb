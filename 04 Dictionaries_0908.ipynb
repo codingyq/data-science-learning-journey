{
  "nbformat": 4,
  "nbformat_minor": 0,
  "metadata": {
    "colab": {
      "provenance": [],
      "authorship_tag": "ABX9TyOjF/vbfhau4mAdCwAjDaxm",
      "include_colab_link": true
    },
    "kernelspec": {
      "name": "python3",
      "display_name": "Python 3"
    },
    "language_info": {
      "name": "python"
    }
  },
  "cells": [
    {
      "cell_type": "markdown",
      "metadata": {
        "id": "view-in-github",
        "colab_type": "text"
      },
      "source": [
        "<a href=\"https://colab.research.google.com/github/codingyq/freecodecamp-python-refresher/blob/main/04%20Dictionaries_0908.ipynb\" target=\"_parent\"><img src=\"https://colab.research.google.com/assets/colab-badge.svg\" alt=\"Open In Colab\"/></a>"
      ]
    },
    {
      "cell_type": "markdown",
      "source": [
        "# Dictionaries\n",
        "\n",
        "* {} - ccurly brakets; Inside: a key paired with a corresponding value; linked with “ : ” and seperated by “ , ”\n",
        "* Dictionary - a special structure  that allows us to store information in what are called **key value pairs**.\n",
        "* When I want to access a specific piece of info inside of the dictionary, I can just refer to it by its key.\n",
        "* Just like dictionary: The word = the key; the defination = the actual value."
      ],
      "metadata": {
        "id": "MhSb7NVLdV1e"
      }
    },
    {
      "cell_type": "code",
      "source": [
        "# A program converts a 3-digit month name into full month name e.g. Jan -> January Feb -> Feburary"
      ],
      "metadata": {
        "id": "_vhhJSuodVcc"
      },
      "execution_count": null,
      "outputs": []
    },
    {
      "cell_type": "code",
      "source": [
        "# My own answer before watching the video\n",
        "\n",
        "monthConversions = {\n",
        "    \"Jan\": \"January\",\n",
        "    \"Feb\": \"February\",\n",
        "    \"Mar\": \"March\",\n",
        "    \"Apr\": \"April\",\n",
        "    \"May\": \"May\",\n",
        "    \"Jun\": \"June\",\n",
        "    \"Jul\": \"July\",             # These are called different key value paris\n",
        "    \"Aug\": \"August\",\n",
        "    \"Sep\": \"September\",\n",
        "    \"Oct\": \"October\",\n",
        "    \"Nov\": \"November\",\n",
        "    \"Dec\": \"December\",\n",
        "}\n",
        "\n",
        "\n",
        "# What we can do is to access them from inside of this dictionary\n",
        "\n",
        "# Access info inside dictionary - refere to the dictionary by name 2. there are some ways to access the month names:\n",
        "print(monthConversions[\"Dec\"])             # (1) we can use [] and type in a key.\n",
        "print(monthConversions.get(\"Dec\"))           # (2) we can use dic.get() function - this funtion allows us to set a default value that we want to use if the key is not found\n",
        "print(monthConversions.get(\"Luv\"))\n",
        "print(monthConversions.get(\"Luv\", \"Not a valid Key\"))"
      ],
      "metadata": {
        "colab": {
          "base_uri": "https://localhost:8080/"
        },
        "id": "SzHdfZnehC8u",
        "outputId": "62c4e39f-919a-408c-8ceb-6f966257434a"
      },
      "execution_count": 7,
      "outputs": [
        {
          "output_type": "stream",
          "name": "stdout",
          "text": [
            "December\n",
            "December\n",
            "None\n",
            "Not a valid Key\n"
          ]
        }
      ]
    },
    {
      "cell_type": "code",
      "source": [
        "# Numbers can also be the Keys\n",
        "\n",
        "monthConversions_num = {\n",
        "    0: \"January\",\n",
        "    1: \"February\",\n",
        "    10: \"March\",\n",
        "    \"Apr\": \"April\",\n",
        "    \"May\": \"May\",\n",
        "    \"Jun\": \"June\",\n",
        "    \"Jul\": \"July\",             # These are called different key value paris\n",
        "    \"Aug\": \"August\",\n",
        "    \"Sep\": \"September\",\n",
        "    \"Oct\": \"October\",\n",
        "    \"Nov\": \"November\",\n",
        "    \"Dec\": \"December\",\n",
        "}\n",
        "\n",
        "print(monthConversions_num[0])\n",
        "print(monthConversions_num.get(10))"
      ],
      "metadata": {
        "colab": {
          "base_uri": "https://localhost:8080/"
        },
        "id": "jDWr50RHiIzH",
        "outputId": "d972f840-b0b9-47c0-a2ba-89eb828f5676"
      },
      "execution_count": 10,
      "outputs": [
        {
          "output_type": "stream",
          "name": "stdout",
          "text": [
            "January\n",
            "March\n"
          ]
        }
      ]
    }
  ]
}
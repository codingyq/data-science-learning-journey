{
  "nbformat": 4,
  "nbformat_minor": 0,
  "metadata": {
    "colab": {
      "provenance": [],
      "authorship_tag": "ABX9TyO8u1QBI861hPsWAFDshYrq",
      "include_colab_link": true
    },
    "kernelspec": {
      "name": "python3",
      "display_name": "Python 3"
    },
    "language_info": {
      "name": "python"
    }
  },
  "cells": [
    {
      "cell_type": "markdown",
      "metadata": {
        "id": "view-in-github",
        "colab_type": "text"
      },
      "source": [
        "<a href=\"https://colab.research.google.com/github/codingyq/freecodecamp-python-refresher/blob/main/06%202D%20Lists%20%26%20Nested%20Loops%20%26_0913.ipynb\" target=\"_parent\"><img src=\"https://colab.research.google.com/assets/colab-badge.svg\" alt=\"Open In Colab\"/></a>"
      ]
    },
    {
      "cell_type": "markdown",
      "source": [
        "# Two Dimensional Lists\n",
        "\n",
        "* A normal list is like number = [].\n",
        "* When we create a basic list we can add a bunch of elements.\n",
        "* We can also make all of the elements inside of the list lists -- A pretty cool list structure !\n",
        "\n",
        "\n",
        "\n"
      ],
      "metadata": {
        "id": "pPJOM4YjFVN0"
      }
    },
    {
      "cell_type": "code",
      "execution_count": 1,
      "metadata": {
        "id": "d_o-ffJXE3ZG"
      },
      "outputs": [],
      "source": [
        "# Normal list\n",
        "\n",
        "number_grid = {\n",
        "    1, 2, 3, 4\n",
        "}"
      ]
    },
    {
      "cell_type": "code",
      "source": [
        "# Make the elements in the list lists\n",
        "\n",
        "number_grid = [\n",
        "    [1, 2, 3],      # inside this number grid list(this high level, overall list), we have fou elements\n",
        "    [4, 5, 6],      # all of those elements are lists themselves\n",
        "    [7, 8, 9],      # we are creading a grid structure in python: four rows & three columns - 2D lists\n",
        "    [0]\n",
        "]\n"
      ],
      "metadata": {
        "id": "33X1_CeCHNsJ"
      },
      "execution_count": 2,
      "outputs": []
    },
    {
      "cell_type": "code",
      "source": [
        "# Access individual elements inside of the list structure\n",
        "# print(number_grid[row index][colum index])\n",
        "\n",
        "print(number_grid[0][0])\n",
        "print(number_grid[2][1])\n",
        "print(number_grid[3])\n",
        "print(number_grid[3][0])\n",
        "print(number_grid[1],[0])  # print two lists with a coma"
      ],
      "metadata": {
        "colab": {
          "base_uri": "https://localhost:8080/"
        },
        "id": "XX3K1cDGIXI6",
        "outputId": "8d9e58aa-a6e3-4253-dfd6-5c697b2ef462"
      },
      "execution_count": 14,
      "outputs": [
        {
          "output_type": "stream",
          "name": "stdout",
          "text": [
            "1\n",
            "8\n",
            "[0]\n",
            "0\n",
            "[4, 5, 6] [0]\n"
          ]
        }
      ]
    },
    {
      "cell_type": "markdown",
      "source": [
        "# Nested Loops\n",
        "* A situation where we have **a for loop inside a for loop**.\n",
        "* We can use nested loops to print out all the elements in the array/lists."
      ],
      "metadata": {
        "id": "BQZQBQY1Jrv-"
      }
    },
    {
      "cell_type": "code",
      "source": [
        "# Use nested loops to print out all the elements in the array\n",
        "# 1. access row\n",
        "for row in number_grid:\n",
        "  print(row)                # access each lists（can see it as row）"
      ],
      "metadata": {
        "colab": {
          "base_uri": "https://localhost:8080/"
        },
        "id": "Il8HIY1SKEwq",
        "outputId": "c87fc47c-3a71-49bc-a3c0-f438094bbb19"
      },
      "execution_count": 15,
      "outputs": [
        {
          "output_type": "stream",
          "name": "stdout",
          "text": [
            "[1, 2, 3]\n",
            "[4, 5, 6]\n",
            "[7, 8, 9]\n",
            "[0]\n"
          ]
        }
      ]
    },
    {
      "cell_type": "code",
      "source": [
        "# Use nested loops to print out all the elements in the array\n",
        "# 1. access row 2. access every elemnts in each row\n",
        "\n",
        "for row in number_grid:\n",
        "  for col in row:\n",
        "    print(col)"
      ],
      "metadata": {
        "colab": {
          "base_uri": "https://localhost:8080/"
        },
        "id": "cI0DpFO9UWvD",
        "outputId": "c6cc9f80-f8b8-4ee7-b1c7-2a00ba538035"
      },
      "execution_count": 16,
      "outputs": [
        {
          "output_type": "stream",
          "name": "stdout",
          "text": [
            "1\n",
            "2\n",
            "3\n",
            "4\n",
            "5\n",
            "6\n",
            "7\n",
            "8\n",
            "9\n",
            "0\n"
          ]
        }
      ]
    },
    {
      "cell_type": "markdown",
      "source": [
        "# Build a Basic Translator  \n",
        "\n",
        "tranlsate a word into another language\n",
        "\n",
        "* Giraffe Language\n",
        "* Vowels -> g\n",
        "  1. dog  --->   dgg\n",
        "  2. cat  --->   cgt\n",
        "\n"
      ],
      "metadata": {
        "id": "ZldWAgNMeTex"
      }
    },
    {
      "cell_type": "code",
      "source": [
        "# define a function and prompt a input for the word that user want to tranlsate\n",
        "\n",
        "def translator(word):\n",
        "  translation = \"\" # we need to figure out how to tranlsate the word into the new language -  we need a variable to store the final result that we return to the user\n",
        "  for letter in word: # looping through every letter in the string. if vowels, change to g. if not leave alone.\n",
        "    if letter in \"AEIOUaeiou\":     # ==== if letter.lower() in \"aeiou\":\n",
        "      translation = translation + \"g\"\n",
        "    else:\n",
        "      translation += letter\n",
        "  return translation\n",
        "\n",
        "print(translator(input(\"Enter a word: \")))"
      ],
      "metadata": {
        "colab": {
          "base_uri": "https://localhost:8080/"
        },
        "id": "VqQ8oBw-e-n3",
        "outputId": "6c6b7167-61d9-4ea5-d2f0-1aa989513469"
      },
      "execution_count": 19,
      "outputs": [
        {
          "output_type": "stream",
          "name": "stdout",
          "text": [
            "Enter a word: call me by my name\n",
            "cgll mg by my ngmg\n"
          ]
        }
      ]
    },
    {
      "cell_type": "code",
      "source": [
        "# A more efficient way to detect vowels: use letter.lower() to check\n",
        "\n",
        "def translator(word):\n",
        "  translation = \"\"\n",
        "  for letter in word:\n",
        "    if letter.lower() in \"aeiou\":      # it works but it won't reflect the Capital letter in the original input\n",
        "      translation = translation + \"g\"\n",
        "    else:\n",
        "      translation += letter\n",
        "  return translation\n",
        "\n",
        "print(translator(input(\"Enter a word: \")))"
      ],
      "metadata": {
        "colab": {
          "base_uri": "https://localhost:8080/"
        },
        "id": "dsv15FKDqVT8",
        "outputId": "f0e36295-c04d-40da-c018-5582960273b2"
      },
      "execution_count": 20,
      "outputs": [
        {
          "output_type": "stream",
          "name": "stdout",
          "text": [
            "Enter a word: On\n",
            "gn\n"
          ]
        }
      ]
    },
    {
      "cell_type": "code",
      "source": [
        "def translator(word):\n",
        "  translation = \"\"\n",
        "  for letter in word:\n",
        "    if letter.lower() in \"aeiou\":\n",
        "      if letter.isupper():            # to see wheather each letter is a capital letter or not\n",
        "        translation = translation + \"G\"\n",
        "      else:\n",
        "        translation = translation + \"g\"\n",
        "    else:\n",
        "      translation += letter\n",
        "  return translation\n",
        "\n",
        "print(translator(input(\"Enter a word: \")))"
      ],
      "metadata": {
        "colab": {
          "base_uri": "https://localhost:8080/"
        },
        "id": "BHgXnLdgrMAq",
        "outputId": "ad9cab08-b32e-4829-aa77-34cb7621ec2f"
      },
      "execution_count": 23,
      "outputs": [
        {
          "output_type": "stream",
          "name": "stdout",
          "text": [
            "Enter a word: On The Boat \n",
            "Gn Thg Bggt \n"
          ]
        }
      ]
    }
  ]
}
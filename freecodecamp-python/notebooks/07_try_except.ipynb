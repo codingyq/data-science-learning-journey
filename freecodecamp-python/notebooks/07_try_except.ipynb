{
  "nbformat": 4,
  "nbformat_minor": 0,
  "metadata": {
    "colab": {
      "provenance": [],
      "authorship_tag": "ABX9TyPZixVCM3ZF3RB+cU7ZjfAT",
      "include_colab_link": true
    },
    "kernelspec": {
      "name": "python3",
      "display_name": "Python 3"
    },
    "language_info": {
      "name": "python"
    }
  },
  "cells": [
    {
      "cell_type": "markdown",
      "metadata": {
        "id": "view-in-github",
        "colab_type": "text"
      },
      "source": [
        "<a href=\"https://colab.research.google.com/github/codingyq/freecodecamp-python-refresher/blob/main/07%20Try%20Excepct%20_%200914%20.ipynb\" target=\"_parent\"><img src=\"https://colab.research.google.com/assets/colab-badge.svg\" alt=\"Open In Colab\"/></a>"
      ]
    },
    {
      "cell_type": "markdown",
      "source": [
        "# Catching Errors in Python: Try/Except blocks\n",
        "* Able to handle errors and do things when they occur.\n",
        "* Try/Except blocks allows program to try out a piece of code. If everthing , then we are great. But if not we can account for that.\n"
      ],
      "metadata": {
        "id": "kbs-HrIEsRG5"
      }
    },
    {
      "cell_type": "code",
      "source": [
        "'''The try/except blocks are like:\n",
        "\n",
        " try:\n",
        "   ....\n",
        " except:\n",
        "   ...."
      ],
      "metadata": {
        "id": "kfxBThN6xFyq"
      },
      "execution_count": null,
      "outputs": []
    },
    {
      "cell_type": "code",
      "execution_count": 5,
      "metadata": {
        "colab": {
          "base_uri": "https://localhost:8080/"
        },
        "id": "LROkHtKpsCmi",
        "outputId": "6b5b4ce0-3bb5-4d29-a530-01e4ad1436a6"
      },
      "outputs": [
        {
          "output_type": "stream",
          "name": "stdout",
          "text": [
            "Entter a number: 5\n",
            "5\n"
          ]
        }
      ],
      "source": [
        "# prompt user to enter a number using input command. And then convert whatever they type into an integer and store inthe number variable.\n",
        "number = int(input(\"Entter a number: \"))\n",
        "print(number)"
      ]
    },
    {
      "cell_type": "code",
      "source": [
        "# When user don't follow to enter the number but to enter text - it broke the program\n",
        "\n",
        "number = int(input(\"Entter a number: \"))\n",
        "print(number)"
      ],
      "metadata": {
        "colab": {
          "base_uri": "https://localhost:8080/",
          "height": 224
        },
        "id": "R8Uu2T2ntPCl",
        "outputId": "5012950f-7e54-41c2-cb79-93728f716293"
      },
      "execution_count": 6,
      "outputs": [
        {
          "name": "stdout",
          "output_type": "stream",
          "text": [
            "Entter a number: adafjl\n"
          ]
        },
        {
          "output_type": "error",
          "ename": "ValueError",
          "evalue": "invalid literal for int() with base 10: 'adafjl'",
          "traceback": [
            "\u001b[0;31m---------------------------------------------------------------------------\u001b[0m",
            "\u001b[0;31mValueError\u001b[0m                                Traceback (most recent call last)",
            "\u001b[0;32m/tmp/ipython-input-603586491.py\u001b[0m in \u001b[0;36m<cell line: 0>\u001b[0;34m()\u001b[0m\n\u001b[1;32m      1\u001b[0m \u001b[0;31m# When user don't follow to enter the number but to enter text - it broke the program\u001b[0m\u001b[0;34m\u001b[0m\u001b[0;34m\u001b[0m\u001b[0m\n\u001b[1;32m      2\u001b[0m \u001b[0;34m\u001b[0m\u001b[0m\n\u001b[0;32m----> 3\u001b[0;31m \u001b[0mnumber\u001b[0m \u001b[0;34m=\u001b[0m \u001b[0mint\u001b[0m\u001b[0;34m(\u001b[0m\u001b[0minput\u001b[0m\u001b[0;34m(\u001b[0m\u001b[0;34m\"Entter a number: \"\u001b[0m\u001b[0;34m)\u001b[0m\u001b[0;34m)\u001b[0m\u001b[0;34m\u001b[0m\u001b[0;34m\u001b[0m\u001b[0m\n\u001b[0m\u001b[1;32m      4\u001b[0m \u001b[0mprint\u001b[0m\u001b[0;34m(\u001b[0m\u001b[0mnumber\u001b[0m\u001b[0;34m)\u001b[0m\u001b[0;34m\u001b[0m\u001b[0;34m\u001b[0m\u001b[0m\n",
            "\u001b[0;31mValueError\u001b[0m: invalid literal for int() with base 10: 'adafjl'"
          ]
        }
      ]
    },
    {
      "cell_type": "code",
      "source": [
        "# In order to handle all the different situation and won't let them to break the entire program - we can use try/except blocks\n",
        "\n",
        "try:\n",
        "  number = int(input(\"Entter a number: \"))\n",
        "  print(number)\n",
        "except:\n",
        "  print(\"Invalid Input\")"
      ],
      "metadata": {
        "colab": {
          "base_uri": "https://localhost:8080/"
        },
        "id": "hFtTL-abtknl",
        "outputId": "6f003358-0c94-4f6f-fccc-8fdf0aec04c4"
      },
      "execution_count": 7,
      "outputs": [
        {
          "output_type": "stream",
          "name": "stdout",
          "text": [
            "Entter a number: asdf\n",
            "Invalid Input\n"
          ]
        }
      ]
    },
    {
      "cell_type": "code",
      "source": [
        "# catch different types of errors\n",
        "# It cannot account for the erros that is outside the try blocks\n",
        "\n",
        "value = 10 / 0  # This will give an error before the try/except\n",
        "\n",
        "try:\n",
        "  number = int(input(\"Entter a number: \"))\n",
        "  print(number)\n",
        "except:\n",
        "  print(\"Invalid Input\")"
      ],
      "metadata": {
        "colab": {
          "base_uri": "https://localhost:8080/",
          "height": 224
        },
        "id": "YqnoPB9Nu7Cc",
        "outputId": "7956327f-f401-45dd-989a-1cce1be0cbbc"
      },
      "execution_count": 14,
      "outputs": [
        {
          "output_type": "error",
          "ename": "ZeroDivisionError",
          "evalue": "division by zero",
          "traceback": [
            "\u001b[0;31m---------------------------------------------------------------------------\u001b[0m",
            "\u001b[0;31mZeroDivisionError\u001b[0m                         Traceback (most recent call last)",
            "\u001b[0;32m/tmp/ipython-input-861564502.py\u001b[0m in \u001b[0;36m<cell line: 0>\u001b[0;34m()\u001b[0m\n\u001b[1;32m      2\u001b[0m \u001b[0;31m# It cannot account for the erros that is outside the try blocks\u001b[0m\u001b[0;34m\u001b[0m\u001b[0;34m\u001b[0m\u001b[0m\n\u001b[1;32m      3\u001b[0m \u001b[0;34m\u001b[0m\u001b[0m\n\u001b[0;32m----> 4\u001b[0;31m \u001b[0mvalue\u001b[0m \u001b[0;34m=\u001b[0m \u001b[0;36m10\u001b[0m \u001b[0;34m/\u001b[0m \u001b[0;36m0\u001b[0m  \u001b[0;31m# This will give an error before the try/except\u001b[0m\u001b[0;34m\u001b[0m\u001b[0;34m\u001b[0m\u001b[0m\n\u001b[0m\u001b[1;32m      5\u001b[0m \u001b[0;34m\u001b[0m\u001b[0m\n\u001b[1;32m      6\u001b[0m \u001b[0;32mtry\u001b[0m\u001b[0;34m:\u001b[0m\u001b[0;34m\u001b[0m\u001b[0;34m\u001b[0m\u001b[0m\n",
            "\u001b[0;31mZeroDivisionError\u001b[0m: division by zero"
          ]
        }
      ]
    },
    {
      "cell_type": "code",
      "source": [
        "# The try block will account for different types of errors\n",
        "\n",
        "try:\n",
        "  value = 10 / 0     # now it has been moved inside the try block\n",
        "  number = int(input(\"Entter a number: \"))\n",
        "  print(number)\n",
        "except:\n",
        "  print(\"Invalid Input\")   # But we haven't input anything"
      ],
      "metadata": {
        "colab": {
          "base_uri": "https://localhost:8080/"
        },
        "id": "0QX83kXovLJD",
        "outputId": "bbde888e-cbf9-462e-9fbd-8a1c7eceb7f2"
      },
      "execution_count": 13,
      "outputs": [
        {
          "output_type": "stream",
          "name": "stdout",
          "text": [
            "Invalid Input\n"
          ]
        }
      ]
    },
    {
      "cell_type": "code",
      "source": [
        "# Catching specific errors - except is too board\n",
        "# To reflect the different types of error that we want to account for (resolve the issue in previous code box)\n",
        "\n",
        "try:\n",
        "  value = 10 / 0\n",
        "  number = int(input(\"Entter a number: \"))\n",
        "  print(number)\n",
        "except ZeroDivisionError:                # we can except specific types of errors.\n",
        "  print(\"Division by zero is not allowed\")\n",
        "except ValueError:                    # when we type the wrong type of value inside of the input\n",
        "  print(\"Invalid Input\")"
      ],
      "metadata": {
        "colab": {
          "base_uri": "https://localhost:8080/"
        },
        "id": "X9C4NDuBv68B",
        "outputId": "9ceb5553-ea5a-492c-ae47-16bb9cd1d015"
      },
      "execution_count": 15,
      "outputs": [
        {
          "output_type": "stream",
          "name": "stdout",
          "text": [
            "Division by zero is not allowed\n"
          ]
        }
      ]
    },
    {
      "cell_type": "code",
      "source": [
        "# We can store the error type as a varialbe\n",
        "\n",
        "try:\n",
        "  value = 10 / 0            # the error line\n",
        "  number = int(input(\"Enter a number: \"))\n",
        "  print(number)\n",
        "except ZeroDivisionError as err:      # Store error as varaible \"err\"\n",
        "  print(err)                 # print out the error\n",
        "except ValueError:\n",
        "  print(\"invalid input\")"
      ],
      "metadata": {
        "colab": {
          "base_uri": "https://localhost:8080/"
        },
        "id": "qQWPkLuXxbz5",
        "outputId": "879868b8-a6ad-4c8c-a736-24164ccd85eb"
      },
      "execution_count": 18,
      "outputs": [
        {
          "output_type": "stream",
          "name": "stdout",
          "text": [
            "division by zero\n"
          ]
        }
      ]
    }
  ]
}
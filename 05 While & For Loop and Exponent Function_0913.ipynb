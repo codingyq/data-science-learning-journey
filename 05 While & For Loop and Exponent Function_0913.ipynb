{
  "nbformat": 4,
  "nbformat_minor": 0,
  "metadata": {
    "colab": {
      "provenance": [],
      "authorship_tag": "ABX9TyMJt8nSXGCYyG4m3q477keZ",
      "include_colab_link": true
    },
    "kernelspec": {
      "name": "python3",
      "display_name": "Python 3"
    },
    "language_info": {
      "name": "python"
    }
  },
  "cells": [
    {
      "cell_type": "markdown",
      "metadata": {
        "id": "view-in-github",
        "colab_type": "text"
      },
      "source": [
        "<a href=\"https://colab.research.google.com/github/codingyq/freecodecamp-python-refresher/blob/main/05%20While%20%26%20For%20Loop%20and%20Exponent%20Function_0913.ipynb\" target=\"_parent\"><img src=\"https://colab.research.google.com/assets/colab-badge.svg\" alt=\"Open In Colab\"/></a>"
      ]
    },
    {
      "cell_type": "markdown",
      "source": [
        "# While loop\n",
        "\n",
        "Structure that loops through and execute codes multiple times unitl certain condition is false\n",
        "* create an integer - a vairalbe\n"
      ],
      "metadata": {
        "id": "lvbBj10yzOR_"
      }
    },
    {
      "cell_type": "markdown",
      "source": [
        "## 1. Create a while loop"
      ],
      "metadata": {
        "id": "MTZhFtN91Ap-"
      }
    },
    {
      "cell_type": "code",
      "execution_count": 2,
      "metadata": {
        "colab": {
          "base_uri": "https://localhost:8080/"
        },
        "id": "W1Zs_m82zIdf",
        "outputId": "ec8e4b47-db99-4ab0-9e8b-a1f4905886ed"
      },
      "outputs": [
        {
          "output_type": "stream",
          "name": "stdout",
          "text": [
            "1\n",
            "2\n",
            "3\n",
            "4\n",
            "5\n",
            "6\n",
            "7\n",
            "8\n",
            "9\n",
            "10\n",
            "Done with loop\n"
          ]
        }
      ],
      "source": [
        "# create a while loop\n",
        "\n",
        "i = 1\n",
        "while i <= 10:\n",
        "  print(i)\n",
        "  i += 1  # shrothand of i = i + 1\n",
        "\n",
        "print(\"Done with loop\")\n",
        "\n"
      ]
    },
    {
      "cell_type": "markdown",
      "source": [
        "## 2. Build a basic guessing game in python\n",
        "We have a secret word in the programe. Users can interact with the programme and guess the secret word. Users should be able to keep guessing the word - keep typing in different response until they get it right."
      ],
      "metadata": {
        "id": "iOhM_Xzj03we"
      }
    },
    {
      "cell_type": "code",
      "source": [
        "# create the secret word\n",
        "\n",
        "secret_word = \"giraffe\"\n",
        "\n",
        "# create vairalbe to store users' guesses\n",
        "\n",
        "guess = \"\"\n",
        "\n",
        "# prompt users to guess the word, but we want to continuely prompt the users to guess until it is right. So single input is not enough. We need while loop:\n",
        "\n",
        "while guess != secret_word:\n",
        "  guess = input(\"Enter guess: \")\n",
        "\n",
        "print(\"You win!\")"
      ],
      "metadata": {
        "colab": {
          "base_uri": "https://localhost:8080/"
        },
        "id": "qh3Iyko903fm",
        "outputId": "a22677f3-1502-4bca-fa08-e96dcfb8ad94"
      },
      "execution_count": 4,
      "outputs": [
        {
          "output_type": "stream",
          "name": "stdout",
          "text": [
            "Enter guess: big\n",
            "Enter guess: small\n",
            "Enter guess: apple\n",
            "Enter guess: banana\n",
            "Enter guess: what\n",
            "Enter guess: giraffe\n",
            "You win!\n"
          ]
        }
      ]
    },
    {
      "cell_type": "code",
      "source": [
        "# set a limit for the nubmers of times that user can try to guess the word - my own answer\n",
        "secret_word = \"giraffe\"\n",
        "guess = \"\"\n",
        "\n",
        "times = 1\n",
        "\n",
        "while guess != secret_word and 0< times <=3:\n",
        "  guess = input(\"Enter guess: \")\n",
        "  times += 1\n",
        "\n",
        "if guess == secret_word:\n",
        "  print(\"You win!\")\n",
        "else:\n",
        "  print(\"You lose!\")\n"
      ],
      "metadata": {
        "colab": {
          "base_uri": "https://localhost:8080/"
        },
        "id": "wdvd-cF33HZ_",
        "outputId": "deaab47d-5596-4ccd-bd43-02c4e85e2d82"
      },
      "execution_count": 9,
      "outputs": [
        {
          "output_type": "stream",
          "name": "stdout",
          "text": [
            "Enter guess: 1\n",
            "Enter guess: 2\n",
            "Enter guess: 3\n",
            "You lose!\n"
          ]
        }
      ]
    },
    {
      "cell_type": "code",
      "source": [
        "# anser from the video and built on the former codes\n",
        "\n",
        "secret_word = \"giraffe\"\n",
        "guess = \"\"\n",
        "guess_count = 0 # store information of how many times user have guessed\n",
        "guess_limit = 3 # set the limit of trying\n",
        "out_of_guesses = False # this is a boolean and it tells us whether of not the user is out of guesses. If it's true, the user is out of chance to guess\n",
        "\n",
        "\n",
        "while guess != secret_word and not(out_of_guesses):\n",
        "  if guess_count < guess_limit:\n",
        "    guess = input(\"Enter guess: \")\n",
        "    guess_count += 1\n",
        "  else:\n",
        "    out_of_guesses = True\n",
        "\n",
        "if out_of_guesses:\n",
        "  print(\"Out of guesses, you lose!\")\n",
        "else:              # there are only 2 ways to break the loop. 1. out of guesses 2. type in the anser correctly\n",
        "  print(\"You win!\")\n",
        ""
      ],
      "metadata": {
        "colab": {
          "base_uri": "https://localhost:8080/"
        },
        "id": "QS2YIjH94ufo",
        "outputId": "c3a33011-d2d3-4315-bbff-f31234c70df2"
      },
      "execution_count": 18,
      "outputs": [
        {
          "output_type": "stream",
          "name": "stdout",
          "text": [
            "Enter guess: 1\n",
            "Enter guess: 2\n",
            "Enter guess: giraffe\n",
            "You win!\n"
          ]
        }
      ]
    },
    {
      "cell_type": "markdown",
      "source": [
        "# For loop\n",
        "\n",
        "* Special type of loop in python\n",
        "* Allows us loop over different collections of items - arrays, letters inside strings a series of numbers\n",
        "* Provide specific purpose"
      ],
      "metadata": {
        "id": "o5fviX3a8BY2"
      }
    },
    {
      "cell_type": "code",
      "source": [
        "# for every letter in the string, we want to do somthing\n",
        "\n",
        "for ladfj in \"Graffe Academy\":  # for loop define a variable; and for each that, print....; Every loop, the variable changed e.g. letters\n",
        "  print(ladfj)"
      ],
      "metadata": {
        "colab": {
          "base_uri": "https://localhost:8080/"
        },
        "id": "mN5FGikuiihQ",
        "outputId": "83b1e41b-ad43-48d7-9dc9-b45056cc9a4a"
      },
      "execution_count": 1,
      "outputs": [
        {
          "output_type": "stream",
          "name": "stdout",
          "text": [
            "G\n",
            "r\n",
            "a\n",
            "f\n",
            "f\n",
            "e\n",
            " \n",
            "A\n",
            "c\n",
            "a\n",
            "d\n",
            "e\n",
            "m\n",
            "y\n"
          ]
        }
      ]
    },
    {
      "cell_type": "code",
      "source": [
        "# more examples in differnt collections: Array\n",
        "\n",
        "friends = [\"myt\",\"wql\",\"zjq\"]\n",
        "for ppl in friends:     # ppl can be renamed as anything\n",
        "  print(ppl)"
      ],
      "metadata": {
        "colab": {
          "base_uri": "https://localhost:8080/"
        },
        "id": "weBX-zVijU5u",
        "outputId": "aff9f5cf-0e6e-490d-8ef8-e5cb700ee10d"
      },
      "execution_count": 2,
      "outputs": [
        {
          "output_type": "stream",
          "name": "stdout",
          "text": [
            "myt\n",
            "wql\n",
            "zjq\n"
          ]
        }
      ]
    },
    {
      "cell_type": "code",
      "source": [
        "# Range\n",
        "\n",
        "for index in range(3,10):\n",
        "  print(index)"
      ],
      "metadata": {
        "colab": {
          "base_uri": "https://localhost:8080/"
        },
        "id": "GjBX4_srj9G8",
        "outputId": "f6e6ecba-7429-4ba5-d058-6d5050eda134"
      },
      "execution_count": 6,
      "outputs": [
        {
          "output_type": "stream",
          "name": "stdout",
          "text": [
            "3\n",
            "4\n",
            "5\n",
            "6\n",
            "7\n",
            "8\n",
            "9\n"
          ]
        }
      ]
    },
    {
      "cell_type": "code",
      "source": [
        "# combination - Range and for loop\n",
        "\n",
        "print(len(friends))\n",
        "\n",
        "for index in range((len(friends))):  # len(friends)   - 3\n",
        "  print(friends[index])         # friends[0],friends[1],friends[2]"
      ],
      "metadata": {
        "colab": {
          "base_uri": "https://localhost:8080/"
        },
        "id": "8kg-dgGMkgkY",
        "outputId": "bbd47309-59e8-4e10-ca40-fb7d46d4e8ea"
      },
      "execution_count": 11,
      "outputs": [
        {
          "output_type": "stream",
          "name": "stdout",
          "text": [
            "3\n",
            "myt\n",
            "wql\n",
            "zjq\n"
          ]
        }
      ]
    },
    {
      "cell_type": "code",
      "source": [
        "for index in range(5):\n",
        "  if index == 0:\n",
        "    print(\"First iteration\")\n",
        "  else:\n",
        "    print(\"Not first\")"
      ],
      "metadata": {
        "colab": {
          "base_uri": "https://localhost:8080/"
        },
        "id": "M5eQ2ba2lIC8",
        "outputId": "16a09819-2d60-4cd9-dab6-18b3f4b9af33"
      },
      "execution_count": 12,
      "outputs": [
        {
          "output_type": "stream",
          "name": "stdout",
          "text": [
            "First iteration\n",
            "Not first\n",
            "Not first\n",
            "Not first\n",
            "Not first\n"
          ]
        }
      ]
    },
    {
      "cell_type": "markdown",
      "source": [
        "# Exponent function - using for loop"
      ],
      "metadata": {
        "id": "xgwAutH8DaFz"
      }
    },
    {
      "cell_type": "code",
      "source": [
        "# Making a exponent function\n",
        "\n",
        "def raise_to_power(base_num, pow_num):      # taking in two pieces of input: base and power number. the base number will be taken to the power nubmer\n",
        "  result = 1                  # defining variable result - where we store the actual result of doing the math\n",
        "  for i in range(pow_num):          # specify the \"for loop\", loop through the range of the number. pow_num = 3 --> 0， 1， 2 --> loop times\n",
        "    result = result * base_num\n",
        "  return result\n",
        "\n",
        "\n",
        "print(raise_to_power(2,3))"
      ],
      "metadata": {
        "colab": {
          "base_uri": "https://localhost:8080/"
        },
        "id": "9TDd9MK9A2nX",
        "outputId": "921546d8-c47c-4cb9-be6b-a818f5a12fa7"
      },
      "execution_count": 10,
      "outputs": [
        {
          "output_type": "stream",
          "name": "stdout",
          "text": [
            "8\n"
          ]
        }
      ]
    }
  ]
}
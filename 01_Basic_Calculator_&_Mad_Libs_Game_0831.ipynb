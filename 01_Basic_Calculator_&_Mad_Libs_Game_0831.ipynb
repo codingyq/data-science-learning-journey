{
  "nbformat": 4,
  "nbformat_minor": 0,
  "metadata": {
    "colab": {
      "provenance": [],
      "toc_visible": true,
      "authorship_tag": "ABX9TyNbR9GS55TE5cC2LpuEYFB5",
      "include_colab_link": true
    },
    "kernelspec": {
      "name": "python3",
      "display_name": "Python 3"
    },
    "language_info": {
      "name": "python"
    }
  },
  "cells": [
    {
      "cell_type": "markdown",
      "metadata": {
        "id": "view-in-github",
        "colab_type": "text"
      },
      "source": [
        "<a href=\"https://colab.research.google.com/github/codingyq/freecodecamp-python-refresher/blob/main/20250831_Basic_Calculator_%26_Mad_Libs_Game.ipynb\" target=\"_parent\"><img src=\"https://colab.research.google.com/assets/colab-badge.svg\" alt=\"Open In Colab\"/></a>"
      ]
    },
    {
      "cell_type": "markdown",
      "source": [
        "Practice while watch freeCodeCamps' video: 27:48 - 1:03:10\n"
      ],
      "metadata": {
        "id": "hgp0p7ncHJLd"
      }
    },
    {
      "cell_type": "markdown",
      "source": [
        "# Build a Mad libs Game"
      ],
      "metadata": {
        "id": "o0VRk86YIBiC"
      }
    },
    {
      "cell_type": "code",
      "execution_count": 1,
      "metadata": {
        "id": "fILG2nE1FemV",
        "colab": {
          "base_uri": "https://localhost:8080/"
        },
        "outputId": "b2e2ed93-2799-48b1-ec09-a3602c8d33ff"
      },
      "outputs": [
        {
          "output_type": "stream",
          "name": "stdout",
          "text": [
            "Enter a plural noun: apples\n",
            "Enter a name: Mark\n",
            "Enter a verb: play\n",
            "Enter a single noun: movie\n",
            "Enter a subject: Chemistry\n",
            "Enter another plural noun: books\n",
            "Enter another verb: see\n",
            "There are a lot of apples we have to do. Mark need to play for the movie, learning Chemistry, looking for books. Because we need to see and promote ourselves.\n"
          ]
        }
      ],
      "source": [
        "# build a madlibs game - enter ramdom words, take those words and put them into a story randomly\n",
        "# 1. get ready for the plain text - print(\"There are a lot of things we have to do. I need to prepare for the application for PhD, learning Applied Data Science, looking for jobs. Because I need to grow and promote myself\")\n",
        "# 2. decide which words to replace and prompt users to input new words for the blanks.\n",
        "# print(\"There are a lot of {things} we have to do. {We} need to {prepare} for the {application for PhD}, learning {Applied Data Science}, looking for {jobs}. Because we need to {grow} and promote ourselves\")\n",
        "\n",
        "plural_noun = input(\"Enter a plural noun: \")\n",
        "people = input(\"Enter a name: \")\n",
        "verb = input(\"Enter a verb: \")\n",
        "single_noun = input(\"Enter a single noun: \")\n",
        "subject = input(\"Enter a subject: \")\n",
        "plural_noun_1 = input(\"Enter another plural noun: \")\n",
        "verb_1= input(\"Enter another verb: \")\n",
        "\n",
        "print(\"There are a lot of \" + plural_noun + \" we have to do. \" + people + \" need to \" + verb + \" for the \" + single_noun + \", learning \" + subject + \", looking for \" + plural_noun_1 + \". Because we need to \" + verb_1 + \" and promote ourselves.\")"
      ]
    },
    {
      "cell_type": "markdown",
      "source": [
        "# Build a basic calculator"
      ],
      "metadata": {
        "id": "IyUwxAfMIJaa"
      }
    },
    {
      "cell_type": "code",
      "source": [
        "# building a basic calculator\n",
        "Number_first = input(\"Type first number: \")\n",
        "Number_second = input(\"Type second number: \")\n",
        "print(\"The sum of the two number is: \" + str(int(Number_first) + int(Number_second)) + \"\\nThe difference is: \" + str(int(Number_first) - int(Number_second)))"
      ],
      "metadata": {
        "id": "2o0xdyQHHDNm"
      },
      "execution_count": null,
      "outputs": []
    },
    {
      "cell_type": "markdown",
      "source": [
        "# Improved calculator: *float() - allowing decimal number*"
      ],
      "metadata": {
        "id": "Mq6g7blpIu1O"
      }
    },
    {
      "cell_type": "code",
      "source": [
        "Number_first = input(\"Enter first number: \")\n",
        "Number_second = input(\"Enter second number: \")\n",
        "result = float(Number_first) + float(Number_second)\n",
        "print(result)"
      ],
      "metadata": {
        "id": "TQAZvLK5H2Rf"
      },
      "execution_count": null,
      "outputs": []
    }
  ]
}
